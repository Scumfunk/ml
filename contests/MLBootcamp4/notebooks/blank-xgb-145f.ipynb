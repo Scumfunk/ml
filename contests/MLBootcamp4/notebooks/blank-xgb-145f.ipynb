{
 "cells": [
  {
   "cell_type": "code",
   "execution_count": 2,
   "metadata": {
    "collapsed": false
   },
   "outputs": [],
   "source": [
    "import os\n",
    "mingw_path = 'C:\\\\Program Files\\\\mingw-w64\\\\x86_64-5.3.0-posix-seh-rt_v4-rev0\\\\mingw64\\\\bin'\n",
    "os.environ['PATH'] = mingw_path + ';' + os.environ['PATH']\n",
    "%matplotlib inline\n",
    "import pandas as pd\n",
    "import numpy as np\n",
    "from scipy import stats, integrate\n",
    "import matplotlib.pyplot as plt\n",
    "# import seaborn as sns\n",
    "from numpy import sort\n",
    "#import xgboost as xgb\n",
    "from xgboost import XGBClassifier\n",
    "from sklearn.model_selection import cross_val_score\n",
    "from sklearn.model_selection import train_test_split\n",
    "from sklearn.feature_selection import SelectFromModel\n",
    "from sklearn.metrics import accuracy_score\n",
    "from xgboost import plot_importance\n",
    "from sklearn.decomposition import PCA\n",
    "from sklearn.model_selection import GridSearchCV\n",
    "import random\n",
    "from sklearn import metrics, preprocessing\n",
    "from sklearn.ensemble import RandomForestClassifier\n",
    "from sklearn.model_selection import cross_val_score\n",
    "from sklearn.cluster import KMeans"
   ]
  },
  {
   "cell_type": "code",
   "execution_count": 3,
   "metadata": {
    "collapsed": false
   },
   "outputs": [],
   "source": [
    "data_path = \"F:\\\\Users\\\\ivann_000\\\\AnacondaProjects\\\\MLBootcamp4\\\\data\"\n",
    "X = pd.read_csv(data_path+\"\\\\x_train.csv\", sep=';', header=None)\n",
    "y = pd.read_csv(data_path+\"\\\\y_train.csv\", sep=';', header=None)[0]"
   ]
  },
  {
   "cell_type": "code",
   "execution_count": 4,
   "metadata": {
    "collapsed": false
   },
   "outputs": [
    {
     "data": {
      "text/plain": [
       "0.55603875673003778"
      ]
     },
     "execution_count": 4,
     "metadata": {},
     "output_type": "execute_result"
    }
   ],
   "source": [
    "features_select = np.array(\n",
    "        [  0,   1,   3,   4,   5,   6,   8,   9,  11,  12,  14,  15,  16,\n",
    "        20,  21,  22,  23,  24,  25,  26,  29,  30,  31,  35,  37,  38,\n",
    "        39,  40,  42,  44,  45,  48,  49,  50,  51,  52,  53,  54,  56,\n",
    "        58,  60,  61,  62,  63,  65,  66,  67,  68,  69,  70,  71,  73,\n",
    "        74,  75,  80,  82,  83,  86,  87,  88,  90,  91,  92,  93,  95,\n",
    "        96, 100, 101, 105, 106, 107, 109, 110, 111, 112, 115, 117, 118,\n",
    "       119, 120, 123, 124, 125, 126, 127, 128, 129, 132, 133, 134, 135,\n",
    "       136, 137, 138, 139, 140, 141, 142, 143, 144, 145, 149, 150, 151,\n",
    "       152, 153, 155, 156, 157, 158, 159, 160, 161, 164, 166, 170, 173,\n",
    "       174, 175, 178, 181, 182, 183, 189, 192, 193, 194, 195, 196, 197,\n",
    "       202, 203, 206, 207, 208, 209, 211, 212, 213, 214, 215, 217, 219,\n",
    "       221, 222]\n",
    ")\n",
    "XX = X[features_select]\n",
    "model = XGBClassifier(n_estimators=1200,\n",
    "                               nthread=8,\n",
    "                               max_depth=15,\n",
    "                                learning_rate=0.01,\n",
    "                                colsample_bytree=0.5,\n",
    "                               seed=4242)\n",
    "model.fit(XX, y)\n",
    "# importances = model.feature_importances_\n",
    "# std = np.std([tree.feature_importances_ for tree in model.estimators_],\n",
    "#              axis=0)\n",
    "# indices = np.argsort(importances)[::-1]\n",
    "\n",
    "# # Print the feature ranking\n",
    "# print(\"Feature ranking:\")\n",
    "\n",
    "# for f in range(X.shape[1]):\n",
    "#     print(\"%d. feature %d (%f) - %f\" % (f + 1, indices[f], importances[indices[f]], std[indices[f]]))\n",
    "\n",
    "# # Plot the feature importances of the forest\n",
    "# plt.figure(figsize=(130,30))\n",
    "# plt.title(\"Feature importances\")\n",
    "# plt.bar(range(X.shape[1]), importances[indices],\n",
    "#        color=\"r\", yerr=std[indices], align=\"center\")\n",
    "# plt.xticks(range(X.shape[1]), indices)\n",
    "# plt.xlim([-1, X.shape[1]])\n",
    "# plt.show()\n",
    "\n",
    "\n",
    "\n",
    "cross_val_score(model, XX, y, scoring='accuracy', cv=3).mean()"
   ]
  },
  {
   "cell_type": "code",
   "execution_count": null,
   "metadata": {
    "collapsed": true
   },
   "outputs": [],
   "source": []
  },
  {
   "cell_type": "code",
   "execution_count": null,
   "metadata": {
    "collapsed": false
   },
   "outputs": [],
   "source": []
  },
  {
   "cell_type": "code",
   "execution_count": null,
   "metadata": {
    "collapsed": false
   },
   "outputs": [],
   "source": []
  },
  {
   "cell_type": "code",
   "execution_count": 35,
   "metadata": {
    "collapsed": false
   },
   "outputs": [],
   "source": []
  },
  {
   "cell_type": "code",
   "execution_count": null,
   "metadata": {
    "collapsed": false
   },
   "outputs": [],
   "source": []
  },
  {
   "cell_type": "code",
   "execution_count": null,
   "metadata": {
    "collapsed": false
   },
   "outputs": [],
   "source": []
  },
  {
   "cell_type": "code",
   "execution_count": null,
   "metadata": {
    "collapsed": true
   },
   "outputs": [],
   "source": []
  },
  {
   "cell_type": "code",
   "execution_count": 40,
   "metadata": {
    "collapsed": false
   },
   "outputs": [],
   "source": []
  },
  {
   "cell_type": "code",
   "execution_count": null,
   "metadata": {
    "collapsed": false
   },
   "outputs": [],
   "source": []
  },
  {
   "cell_type": "code",
   "execution_count": null,
   "metadata": {
    "collapsed": false
   },
   "outputs": [],
   "source": []
  },
  {
   "cell_type": "code",
   "execution_count": null,
   "metadata": {
    "collapsed": false
   },
   "outputs": [],
   "source": []
  },
  {
   "cell_type": "code",
   "execution_count": null,
   "metadata": {
    "collapsed": true
   },
   "outputs": [],
   "source": []
  }
 ],
 "metadata": {
  "kernelspec": {
   "display_name": "Python 3",
   "language": "python",
   "name": "python3"
  },
  "language_info": {
   "codemirror_mode": {
    "name": "ipython",
    "version": 3
   },
   "file_extension": ".py",
   "mimetype": "text/x-python",
   "name": "python",
   "nbconvert_exporter": "python",
   "pygments_lexer": "ipython3",
   "version": "3.6.0"
  }
 },
 "nbformat": 4,
 "nbformat_minor": 2
}
