{
 "cells": [
  {
   "cell_type": "code",
   "execution_count": 3,
   "metadata": {
    "collapsed": false
   },
   "outputs": [],
   "source": [
    "import os\n",
    "mingw_path = 'C:\\\\Program Files\\\\mingw-w64\\\\x86_64-5.3.0-posix-seh-rt_v4-rev0\\\\mingw64\\\\bin'\n",
    "os.environ['PATH'] = mingw_path + ';' + os.environ['PATH']\n",
    "%matplotlib inline\n",
    "import pandas as pd\n",
    "import numpy as np\n",
    "from scipy import stats, integrate\n",
    "import matplotlib.pyplot as plt\n",
    "# import seaborn as sns\n",
    "from numpy import sort\n",
    "#import xgboost as xgb\n",
    "from xgboost import XGBClassifier\n",
    "from sklearn.model_selection import cross_val_score\n",
    "from sklearn.model_selection import train_test_split\n",
    "from sklearn.feature_selection import SelectFromModel\n",
    "from sklearn.metrics import accuracy_score\n",
    "from xgboost import plot_importance\n",
    "from sklearn.decomposition import PCA\n",
    "from sklearn.model_selection import GridSearchCV\n",
    "import random\n",
    "from sklearn import metrics, preprocessing\n",
    "from sklearn.ensemble import RandomForestClassifier\n",
    "from sklearn.model_selection import cross_val_score\n",
    "from sklearn.cluster import KMeans"
   ]
  },
  {
   "cell_type": "code",
   "execution_count": 4,
   "metadata": {
    "collapsed": false
   },
   "outputs": [],
   "source": [
    "data_path = \"F:\\\\Users\\\\ivann_000\\\\AnacondaProjects\\\\MLBootcamp4\\\\data\"\n",
    "X = pd.read_csv(data_path+\"\\\\x_train.csv\", sep=';', header=None)\n",
    "y = pd.read_csv(data_path+\"\\\\y_train.csv\", sep=';', header=None)[0]"
   ]
  },
  {
   "cell_type": "code",
   "execution_count": 5,
   "metadata": {
    "collapsed": false
   },
   "outputs": [
    {
     "name": "stdout",
     "output_type": "stream",
     "text": [
      "[   0.    6.   26.   30.   51.   61.   70.  135.  138.  157.  183.  193.\n",
      "  208.   23.   54.  120.  198.   55.  130.  143.  101.    1.    2.    7.\n",
      "   46.   69.   94.  105.  117.  118.  167.  199.  200.  216.   81.  185.\n",
      "   13.   89.  141.  174.  188.  215.   19.  186.   32.  201.  219.   41.\n",
      "  184.  213.  218.   58.   59.   66.   76.   79.  221.   87.  102.  103.\n",
      "  104.  107.  108.  128.  144.  150.  155.  168.  171.  190.    5.  163.\n",
      "   36.  113.  172.   12.   13.   87.  125.  141.  174.   35.  102.  104.\n",
      "  107.  128.  144.  170.  190.  195.   58.  155.   76.   17.   18.   27.\n",
      "   59.   72.   79.  108.  114.  168.  171.  179.  221.  184.   22.   98.\n",
      "  112.   28.   29.   57.  104.   43.   42.   32.   66.   90.   33.   77.\n",
      "   84.  113.  127.  131.  139.  146.  148.  154.  162.  165.  172.  177.\n",
      "   36.   92.  122.  136.  147.  212.  209.   34.   44.   45.   64.   97.\n",
      "  116.  169.  187.  204.  210.   78.  220.   85.   99.  176.   35.   76.\n",
      "   58.   41.  150.   47.   49.   62.  136.  147.  180.   63.  205.   71.\n",
      "  191.   78.   85.   99.  134.  176.  121.  133.]\n"
     ]
    }
   ],
   "source": [
    "XX = X.copy()\n",
    "corr_features = []\n",
    "corr = XX.corr()\n",
    "for i in corr:\n",
    "    for j in corr:\n",
    "        if ((abs(corr[i][j]) > 0.895) and (i!=j) and (i<j)):\n",
    "            added = False\n",
    "            for l, k in enumerate(corr_features):\n",
    "                if not added:\n",
    "                    if (i in k):\n",
    "                        if j not in k:\n",
    "                            k.append(j)\n",
    "                        added = True\n",
    "                    if (j in k):\n",
    "                        if i not in k:\n",
    "                            k.append(i)\n",
    "                        added = True\n",
    "            if not added:\n",
    "                corr_features.append([i, j])\n",
    "for i, c in enumerate(corr_features):\n",
    "    for j, col in enumerate(c):\n",
    "        if j == 0:\n",
    "            XX['mean_'+str(i)]=XX[col]\n",
    "        else:\n",
    "            XX['mean_'+str(i)] += XX[col]\n",
    "    XX['mean_'+str(i)] /= len(c)\n",
    "#     for j, col in enumerate(c):\n",
    "#         XX[str(col)+'_from_mean'] = XX['mean_'+str(i)] - XX[col]\n",
    "features_to_drop = np.array([])\n",
    "for f in corr_features:\n",
    "    features_to_drop = np.append(features_to_drop, f)\n",
    "print(features_to_drop)\n",
    "XX = XX.drop(features_to_drop, axis=1)"
   ]
  },
  {
   "cell_type": "code",
   "execution_count": 8,
   "metadata": {
    "collapsed": false
   },
   "outputs": [
    {
     "name": "stdout",
     "output_type": "stream",
     "text": [
      "100 0.512188805124\n"
     ]
    }
   ],
   "source": [
    "for comp in [100]:  \n",
    "    pca = PCA(n_components=comp)\n",
    "    XX_d = pd.DataFrame(pca.fit_transform(XX))\n",
    "    model = XGBClassifier(n_estimators=1200,\n",
    "                                   nthread=8,\n",
    "                                   max_depth=15,\n",
    "                                    learning_rate=0.01,\n",
    "                                    colsample_bytree=0.5,\n",
    "                                   seed=4242)\n",
    "    print(comp, cross_val_score(model, XX_d, y, scoring='accuracy', cv=3).mean())"
   ]
  },
  {
   "cell_type": "code",
   "execution_count": null,
   "metadata": {
    "collapsed": true
   },
   "outputs": [],
   "source": []
  },
  {
   "cell_type": "code",
   "execution_count": null,
   "metadata": {
    "collapsed": false
   },
   "outputs": [],
   "source": []
  },
  {
   "cell_type": "code",
   "execution_count": null,
   "metadata": {
    "collapsed": false
   },
   "outputs": [],
   "source": []
  },
  {
   "cell_type": "code",
   "execution_count": 35,
   "metadata": {
    "collapsed": false
   },
   "outputs": [],
   "source": []
  },
  {
   "cell_type": "code",
   "execution_count": null,
   "metadata": {
    "collapsed": false
   },
   "outputs": [],
   "source": []
  },
  {
   "cell_type": "code",
   "execution_count": null,
   "metadata": {
    "collapsed": false
   },
   "outputs": [],
   "source": []
  },
  {
   "cell_type": "code",
   "execution_count": null,
   "metadata": {
    "collapsed": true
   },
   "outputs": [],
   "source": []
  },
  {
   "cell_type": "code",
   "execution_count": 40,
   "metadata": {
    "collapsed": false
   },
   "outputs": [],
   "source": []
  },
  {
   "cell_type": "code",
   "execution_count": null,
   "metadata": {
    "collapsed": false
   },
   "outputs": [],
   "source": []
  },
  {
   "cell_type": "code",
   "execution_count": null,
   "metadata": {
    "collapsed": false
   },
   "outputs": [],
   "source": []
  },
  {
   "cell_type": "code",
   "execution_count": null,
   "metadata": {
    "collapsed": false
   },
   "outputs": [],
   "source": []
  },
  {
   "cell_type": "code",
   "execution_count": null,
   "metadata": {
    "collapsed": true
   },
   "outputs": [],
   "source": []
  }
 ],
 "metadata": {
  "kernelspec": {
   "display_name": "Python 3",
   "language": "python",
   "name": "python3"
  },
  "language_info": {
   "codemirror_mode": {
    "name": "ipython",
    "version": 3
   },
   "file_extension": ".py",
   "mimetype": "text/x-python",
   "name": "python",
   "nbconvert_exporter": "python",
   "pygments_lexer": "ipython3",
   "version": "3.6.0"
  }
 },
 "nbformat": 4,
 "nbformat_minor": 2
}
