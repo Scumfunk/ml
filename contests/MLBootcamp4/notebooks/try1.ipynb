{
 "cells": [
  {
   "cell_type": "code",
   "execution_count": 1,
   "metadata": {
    "collapsed": false
   },
   "outputs": [],
   "source": [
    "import os\n",
    "mingw_path = 'C:\\\\Program Files\\\\mingw-w64\\\\x86_64-5.3.0-posix-seh-rt_v4-rev0\\\\mingw64\\\\bin'\n",
    "os.environ['PATH'] = mingw_path + ';' + os.environ['PATH']\n",
    "%matplotlib inline\n",
    "import pandas as pd\n",
    "import numpy as np\n",
    "from scipy import stats, integrate\n",
    "import matplotlib.pyplot as plt\n",
    "import seaborn as sns\n",
    "from numpy import sort\n",
    "#import xgboost as xgb\n",
    "from xgboost import XGBClassifier\n",
    "from sklearn.model_selection import cross_val_score\n",
    "from sklearn.model_selection import train_test_split\n",
    "from sklearn.feature_selection import SelectFromModel\n",
    "from sklearn.metrics import accuracy_score\n",
    "from xgboost import plot_importance\n",
    "from sklearn.decomposition import PCA\n",
    "from sklearn.model_selection import GridSearchCV"
   ]
  },
  {
   "cell_type": "code",
   "execution_count": 2,
   "metadata": {
    "collapsed": false
   },
   "outputs": [
    {
     "data": {
      "text/plain": [
       "(3489, 3489)"
      ]
     },
     "execution_count": 2,
     "metadata": {},
     "output_type": "execute_result"
    }
   ],
   "source": [
    "data_path = \"F:\\\\Users\\\\ivann_000\\\\AnacondaProjects\\\\MLBootcamp4\\\\data\"\n",
    "X = pd.read_csv(data_path+\"\\\\x_train.csv\", sep=';', header=None)\n",
    "y = pd.read_csv(data_path+\"\\\\y_train.csv\", sep=';', header=None)[0]\n",
    "len(X), len(y)"
   ]
  },
  {
   "cell_type": "code",
   "execution_count": null,
   "metadata": {
    "collapsed": false
   },
   "outputs": [],
   "source": [
    "#sns.distplot(x_train_data[8])"
   ]
  },
  {
   "cell_type": "code",
   "execution_count": null,
   "metadata": {
    "collapsed": false
   },
   "outputs": [],
   "source": [
    "model = XGBClassifier()\n",
    "cross_val_score(model, X, y, scoring='accuracy')"
   ]
  },
  {
   "cell_type": "code",
   "execution_count": null,
   "metadata": {
    "collapsed": false
   },
   "outputs": [],
   "source": [
    "model.fit(X,y)"
   ]
  },
  {
   "cell_type": "code",
   "execution_count": null,
   "metadata": {
    "collapsed": false
   },
   "outputs": [],
   "source": [
    "plot_importance(model)"
   ]
  },
  {
   "cell_type": "code",
   "execution_count": 77,
   "metadata": {
    "collapsed": false
   },
   "outputs": [
    {
     "name": "stdout",
     "output_type": "stream",
     "text": [
      "Accuracy: 55.2083333333\n",
      "Thresh=0.0000000000, n=223, Accuracy: 55.2083333333\n",
      "Thresh=0.0000000000, n=223, Accuracy: 55.2083333333\n",
      "Thresh=0.0000000000, n=223, Accuracy: 55.2083333333\n",
      "Thresh=0.0000000000, n=223, Accuracy: 55.2083333333\n",
      "Thresh=0.0003107520, n=219, Accuracy: 55.2083333333\n",
      "Thresh=0.0003107520, n=219, Accuracy: 55.2083333333\n",
      "Thresh=0.0003107520, n=219, Accuracy: 55.2083333333\n",
      "Thresh=0.0003107520, n=219, Accuracy: 55.2083333333\n",
      "Thresh=0.0003107520, n=219, Accuracy: 55.2083333333\n",
      "Thresh=0.0003107520, n=219, Accuracy: 55.2083333333\n",
      "Thresh=0.0003107520, n=219, Accuracy: 55.2083333333\n",
      "Thresh=0.0003107520, n=219, Accuracy: 55.2083333333\n",
      "Thresh=0.0003107520, n=219, Accuracy: 55.2083333333\n",
      "Thresh=0.0003107520, n=219, Accuracy: 55.2083333333\n",
      "Thresh=0.0006215040, n=209, Accuracy: 54.7743055556\n",
      "Thresh=0.0006215040, n=209, Accuracy: 54.7743055556\n",
      "Thresh=0.0006215040, n=209, Accuracy: 54.7743055556\n",
      "Thresh=0.0006215040, n=209, Accuracy: 54.7743055556\n",
      "Thresh=0.0006215040, n=209, Accuracy: 54.7743055556\n",
      "Thresh=0.0006215040, n=209, Accuracy: 54.7743055556\n",
      "Thresh=0.0006215040, n=209, Accuracy: 54.7743055556\n",
      "Thresh=0.0006215040, n=209, Accuracy: 54.7743055556\n",
      "Thresh=0.0006215040, n=209, Accuracy: 54.7743055556\n",
      "Thresh=0.0006215040, n=209, Accuracy: 54.7743055556\n",
      "Thresh=0.0006215040, n=209, Accuracy: 54.7743055556\n",
      "Thresh=0.0006215040, n=209, Accuracy: 54.7743055556\n",
      "Thresh=0.0009322561, n=197, Accuracy: 54.3402777778\n",
      "Thresh=0.0009322561, n=197, Accuracy: 54.3402777778\n",
      "Thresh=0.0009322561, n=197, Accuracy: 54.3402777778\n",
      "Thresh=0.0009322561, n=197, Accuracy: 54.3402777778\n",
      "Thresh=0.0009322561, n=197, Accuracy: 54.3402777778\n",
      "Thresh=0.0009322561, n=197, Accuracy: 54.3402777778\n",
      "Thresh=0.0009322561, n=197, Accuracy: 54.3402777778\n",
      "Thresh=0.0009322561, n=197, Accuracy: 54.3402777778\n",
      "Thresh=0.0009322561, n=197, Accuracy: 54.3402777778\n",
      "Thresh=0.0012430081, n=188, Accuracy: 54.6875\n",
      "Thresh=0.0012430081, n=188, Accuracy: 54.6875\n",
      "Thresh=0.0012430081, n=188, Accuracy: 54.6875\n",
      "Thresh=0.0012430081, n=188, Accuracy: 54.6875\n",
      "Thresh=0.0012430081, n=188, Accuracy: 54.6875\n",
      "Thresh=0.0012430081, n=188, Accuracy: 54.6875\n",
      "Thresh=0.0012430081, n=188, Accuracy: 54.6875\n",
      "Thresh=0.0012430081, n=188, Accuracy: 54.6875\n",
      "Thresh=0.0012430081, n=188, Accuracy: 54.6875\n",
      "Thresh=0.0015537601, n=179, Accuracy: 54.4270833333\n",
      "Thresh=0.0015537601, n=179, Accuracy: 54.4270833333\n",
      "Thresh=0.0015537601, n=179, Accuracy: 54.4270833333\n",
      "Thresh=0.0015537601, n=179, Accuracy: 54.4270833333\n",
      "Thresh=0.0015537601, n=179, Accuracy: 54.4270833333\n",
      "Thresh=0.0015537601, n=179, Accuracy: 54.4270833333\n",
      "Thresh=0.0018645121, n=173, Accuracy: 54.3402777778\n",
      "Thresh=0.0018645121, n=173, Accuracy: 54.3402777778\n",
      "Thresh=0.0018645121, n=173, Accuracy: 54.3402777778\n",
      "Thresh=0.0018645121, n=173, Accuracy: 54.3402777778\n",
      "Thresh=0.0018645121, n=173, Accuracy: 54.3402777778\n",
      "Thresh=0.0018645121, n=173, Accuracy: 54.3402777778\n",
      "Thresh=0.0021752641, n=167, Accuracy: 54.6875\n",
      "Thresh=0.0021752641, n=167, Accuracy: 54.6875\n",
      "Thresh=0.0021752641, n=167, Accuracy: 54.6875\n",
      "Thresh=0.0021752641, n=167, Accuracy: 54.6875\n",
      "Thresh=0.0021752641, n=167, Accuracy: 54.6875\n",
      "Thresh=0.0021752641, n=167, Accuracy: 54.6875\n",
      "Thresh=0.0021752641, n=167, Accuracy: 54.6875\n",
      "Thresh=0.0021752641, n=167, Accuracy: 54.6875\n",
      "Thresh=0.0021752641, n=167, Accuracy: 54.6875\n",
      "Thresh=0.0021752641, n=167, Accuracy: 54.6875\n",
      "Thresh=0.0021752641, n=167, Accuracy: 54.6875\n",
      "Thresh=0.0021752641, n=167, Accuracy: 54.6875\n",
      "Thresh=0.0021752641, n=167, Accuracy: 54.6875\n",
      "Thresh=0.0024860161, n=154, Accuracy: 54.9479166667\n",
      "Thresh=0.0024860161, n=154, Accuracy: 54.9479166667\n",
      "Thresh=0.0024860161, n=154, Accuracy: 54.9479166667\n",
      "Thresh=0.0024860161, n=154, Accuracy: 54.9479166667\n",
      "Thresh=0.0024860161, n=154, Accuracy: 54.9479166667\n",
      "Thresh=0.0024860161, n=154, Accuracy: 54.9479166667\n",
      "Thresh=0.0024860161, n=154, Accuracy: 54.9479166667\n",
      "Thresh=0.0024860161, n=154, Accuracy: 54.9479166667\n",
      "Thresh=0.0024860161, n=154, Accuracy: 54.9479166667\n",
      "Thresh=0.0024860161, n=154, Accuracy: 54.9479166667\n",
      "Thresh=0.0027967682, n=144, Accuracy: 55.9027777778\n",
      "Thresh=0.0027967682, n=144, Accuracy: 55.9027777778\n",
      "Thresh=0.0027967682, n=144, Accuracy: 55.9027777778\n",
      "Thresh=0.0027967682, n=144, Accuracy: 55.9027777778\n",
      "Thresh=0.0027967682, n=144, Accuracy: 55.9027777778\n",
      "Thresh=0.0027967682, n=144, Accuracy: 55.9027777778\n",
      "Thresh=0.0027967682, n=144, Accuracy: 55.9027777778\n",
      "Thresh=0.0031075203, n=137, Accuracy: 56.0763888889\n",
      "Thresh=0.0031075203, n=137, Accuracy: 56.0763888889\n",
      "Thresh=0.0031075203, n=137, Accuracy: 56.0763888889\n",
      "Thresh=0.0031075203, n=137, Accuracy: 56.0763888889\n",
      "Thresh=0.0031075203, n=137, Accuracy: 56.0763888889\n",
      "Thresh=0.0031075203, n=137, Accuracy: 56.0763888889\n",
      "Thresh=0.0031075203, n=137, Accuracy: 56.0763888889\n",
      "Thresh=0.0031075203, n=137, Accuracy: 56.0763888889\n",
      "Thresh=0.0031075203, n=137, Accuracy: 56.0763888889\n",
      "Thresh=0.0031075203, n=137, Accuracy: 56.0763888889\n",
      "Thresh=0.0031075203, n=137, Accuracy: 56.0763888889\n",
      "Thresh=0.0031075203, n=137, Accuracy: 56.0763888889\n",
      "Thresh=0.0031075203, n=137, Accuracy: 56.0763888889\n",
      "Thresh=0.0034182721, n=124, Accuracy: 55.7291666667\n",
      "Thresh=0.0034182721, n=124, Accuracy: 55.7291666667\n",
      "Thresh=0.0034182721, n=124, Accuracy: 55.7291666667\n",
      "Thresh=0.0034182721, n=124, Accuracy: 55.7291666667\n",
      "Thresh=0.0034182721, n=124, Accuracy: 55.7291666667\n",
      "Thresh=0.0034182721, n=124, Accuracy: 55.7291666667\n",
      "Thresh=0.0034182721, n=124, Accuracy: 55.7291666667\n",
      "Thresh=0.0034182721, n=124, Accuracy: 55.7291666667\n",
      "Thresh=0.0034182721, n=124, Accuracy: 55.7291666667\n",
      "Thresh=0.0034182721, n=124, Accuracy: 55.7291666667\n",
      "Thresh=0.0034182721, n=124, Accuracy: 55.7291666667\n",
      "Thresh=0.0034182721, n=124, Accuracy: 55.7291666667\n",
      "Thresh=0.0037290242, n=112, Accuracy: 55.9895833333\n",
      "Thresh=0.0037290242, n=112, Accuracy: 55.9895833333\n",
      "Thresh=0.0037290242, n=112, Accuracy: 55.9895833333\n",
      "Thresh=0.0037290242, n=112, Accuracy: 55.9895833333\n",
      "Thresh=0.0037290242, n=112, Accuracy: 55.9895833333\n",
      "Thresh=0.0037290242, n=112, Accuracy: 55.9895833333\n",
      "Thresh=0.0037290242, n=112, Accuracy: 55.9895833333\n",
      "Thresh=0.0040397760, n=105, Accuracy: 54.8611111111\n",
      "Thresh=0.0040397760, n=105, Accuracy: 54.8611111111\n",
      "Thresh=0.0040397760, n=105, Accuracy: 54.8611111111\n",
      "Thresh=0.0040397760, n=105, Accuracy: 54.8611111111\n",
      "Thresh=0.0040397760, n=105, Accuracy: 54.8611111111\n",
      "Thresh=0.0040397760, n=105, Accuracy: 54.8611111111\n",
      "Thresh=0.0040397760, n=105, Accuracy: 54.8611111111\n",
      "Thresh=0.0040397760, n=105, Accuracy: 54.8611111111\n",
      "Thresh=0.0043505281, n=97, Accuracy: 55.2951388889\n",
      "Thresh=0.0043505281, n=97, Accuracy: 55.2951388889\n",
      "Thresh=0.0043505281, n=97, Accuracy: 55.2951388889\n",
      "Thresh=0.0043505281, n=97, Accuracy: 55.2951388889\n",
      "Thresh=0.0043505281, n=97, Accuracy: 55.2951388889\n",
      "Thresh=0.0043505281, n=97, Accuracy: 55.2951388889\n",
      "Thresh=0.0043505281, n=97, Accuracy: 55.2951388889\n",
      "Thresh=0.0043505281, n=97, Accuracy: 55.2951388889\n",
      "Thresh=0.0043505281, n=97, Accuracy: 55.2951388889\n",
      "Thresh=0.0043505281, n=97, Accuracy: 55.2951388889\n",
      "Thresh=0.0046612802, n=87, Accuracy: 55.2951388889\n",
      "Thresh=0.0046612802, n=87, Accuracy: 55.2951388889\n",
      "Thresh=0.0046612802, n=87, Accuracy: 55.2951388889\n",
      "Thresh=0.0046612802, n=87, Accuracy: 55.2951388889\n",
      "Thresh=0.0046612802, n=87, Accuracy: 55.2951388889\n",
      "Thresh=0.0049720323, n=82, Accuracy: 55.2951388889\n",
      "Thresh=0.0049720323, n=82, Accuracy: 55.2951388889\n",
      "Thresh=0.0049720323, n=82, Accuracy: 55.2951388889\n",
      "Thresh=0.0049720323, n=82, Accuracy: 55.2951388889\n",
      "Thresh=0.0049720323, n=82, Accuracy: 55.2951388889\n",
      "Thresh=0.0049720323, n=82, Accuracy: 55.2951388889\n",
      "Thresh=0.0049720323, n=82, Accuracy: 55.2951388889\n",
      "Thresh=0.0049720323, n=82, Accuracy: 55.2951388889\n",
      "Thresh=0.0049720323, n=82, Accuracy: 55.2951388889\n",
      "Thresh=0.0049720323, n=82, Accuracy: 55.2951388889\n",
      "Thresh=0.0052827843, n=72, Accuracy: 54.2534722222\n",
      "Thresh=0.0052827843, n=72, Accuracy: 54.2534722222\n",
      "Thresh=0.0052827843, n=72, Accuracy: 54.2534722222\n",
      "Thresh=0.0052827843, n=72, Accuracy: 54.2534722222\n",
      "Thresh=0.0052827843, n=72, Accuracy: 54.2534722222\n",
      "Thresh=0.0052827843, n=72, Accuracy: 54.2534722222\n",
      "Thresh=0.0052827843, n=72, Accuracy: 54.2534722222\n",
      "Thresh=0.0052827843, n=72, Accuracy: 54.2534722222\n",
      "Thresh=0.0055935364, n=64, Accuracy: 53.2986111111\n",
      "Thresh=0.0055935364, n=64, Accuracy: 53.2986111111\n",
      "Thresh=0.0055935364, n=64, Accuracy: 53.2986111111\n",
      "Thresh=0.0055935364, n=64, Accuracy: 53.2986111111\n",
      "Thresh=0.0059042885, n=60, Accuracy: 53.125\n",
      "Thresh=0.0059042885, n=60, Accuracy: 53.125\n",
      "Thresh=0.0059042885, n=60, Accuracy: 53.125\n",
      "Thresh=0.0059042885, n=60, Accuracy: 53.125\n",
      "Thresh=0.0059042885, n=60, Accuracy: 53.125\n",
      "Thresh=0.0059042885, n=60, Accuracy: 53.125\n",
      "Thresh=0.0062150406, n=54, Accuracy: 53.90625\n",
      "Thresh=0.0062150406, n=54, Accuracy: 53.90625\n",
      "Thresh=0.0062150406, n=54, Accuracy: 53.90625\n",
      "Thresh=0.0062150406, n=54, Accuracy: 53.90625\n",
      "Thresh=0.0062150406, n=54, Accuracy: 53.90625\n",
      "Thresh=0.0065257926, n=49, Accuracy: 54.5138888889\n",
      "Thresh=0.0065257926, n=49, Accuracy: 54.5138888889\n",
      "Thresh=0.0068365443, n=47, Accuracy: 54.3402777778\n",
      "Thresh=0.0068365443, n=47, Accuracy: 54.3402777778\n",
      "Thresh=0.0068365443, n=47, Accuracy: 54.3402777778\n",
      "Thresh=0.0068365443, n=47, Accuracy: 54.3402777778\n",
      "Thresh=0.0068365443, n=47, Accuracy: 54.3402777778\n",
      "Thresh=0.0068365443, n=47, Accuracy: 54.3402777778\n",
      "Thresh=0.0074580484, n=41, Accuracy: 53.0381944444\n",
      "Thresh=0.0074580484, n=41, Accuracy: 53.0381944444\n",
      "Thresh=0.0074580484, n=41, Accuracy: 53.0381944444\n",
      "Thresh=0.0074580484, n=41, Accuracy: 53.0381944444\n",
      "Thresh=0.0074580484, n=41, Accuracy: 53.0381944444\n",
      "Thresh=0.0074580484, n=41, Accuracy: 53.0381944444\n",
      "Thresh=0.0074580484, n=41, Accuracy: 53.0381944444\n",
      "Thresh=0.0077688005, n=34, Accuracy: 53.0381944444\n",
      "Thresh=0.0077688005, n=34, Accuracy: 53.0381944444\n",
      "Thresh=0.0077688005, n=34, Accuracy: 53.0381944444\n",
      "Thresh=0.0077688005, n=34, Accuracy: 53.0381944444\n",
      "Thresh=0.0080795521, n=30, Accuracy: 53.2118055556\n",
      "Thresh=0.0080795521, n=30, Accuracy: 53.2118055556\n",
      "Thresh=0.0080795521, n=30, Accuracy: 53.2118055556\n",
      "Thresh=0.0080795521, n=30, Accuracy: 53.2118055556\n",
      "Thresh=0.0080795521, n=30, Accuracy: 53.2118055556\n",
      "Thresh=0.0080795521, n=30, Accuracy: 53.2118055556\n",
      "Thresh=0.0083903046, n=24, Accuracy: 53.0381944444\n",
      "Thresh=0.0083903046, n=24, Accuracy: 53.0381944444\n",
      "Thresh=0.0083903046, n=24, Accuracy: 53.0381944444\n",
      "Thresh=0.0083903046, n=24, Accuracy: 53.0381944444\n",
      "Thresh=0.0090118088, n=20, Accuracy: 52.6041666667\n",
      "Thresh=0.0093225604, n=19, Accuracy: 52.34375\n",
      "Thresh=0.0093225604, n=19, Accuracy: 52.34375\n",
      "Thresh=0.0096333129, n=17, Accuracy: 52.1701388889\n",
      "Thresh=0.0096333129, n=17, Accuracy: 52.1701388889\n",
      "Thresh=0.0099440645, n=15, Accuracy: 51.5625\n",
      "Thresh=0.0102548171, n=14, Accuracy: 52.1701388889\n",
      "Thresh=0.0105655687, n=13, Accuracy: 52.1701388889\n",
      "Thresh=0.0105655687, n=13, Accuracy: 52.1701388889\n",
      "Thresh=0.0108763203, n=11, Accuracy: 52.34375\n",
      "Thresh=0.0114978245, n=10, Accuracy: 51.3888888889\n",
      "Thresh=0.0121193286, n=9, Accuracy: 51.5625\n",
      "Thresh=0.0124300811, n=8, Accuracy: 52.1701388889\n",
      "Thresh=0.0124300811, n=8, Accuracy: 52.1701388889\n",
      "Thresh=0.0130515853, n=6, Accuracy: 52.4305555556\n",
      "Thresh=0.0139838411, n=5, Accuracy: 52.9513888889\n",
      "Thresh=0.0142945927, n=4, Accuracy: 46.875\n",
      "Thresh=0.0149160968, n=3, Accuracy: 47.8298611111\n",
      "Thresh=0.0226848982, n=2, Accuracy: 47.9166666667\n",
      "Thresh=0.0431945324, n=1, Accuracy: 45.9201388889\n"
     ]
    }
   ],
   "source": [
    "X_train, X_test, y_train, y_test = train_test_split(X, y, test_size=0.33, random_state=7)\n",
    "model.fit(X_train, y_train)\n",
    "y_pred = model.predict(X_test)\n",
    "predictions = [round(value) for value in y_pred]\n",
    "accuracy = accuracy_score(y_test, predictions)\n",
    "print(\"Accuracy: \" + str(accuracy * 100.0))\n",
    "thresholds = sort(model.feature_importances_)\n",
    "for thresh in thresholds:\n",
    "    # select features using threshold\n",
    "    selection = SelectFromModel(model, threshold=thresh, prefit=True)\n",
    "    select_X_train = selection.transform(X_train)\n",
    "    # train model\n",
    "    selection_model = XGBClassifier()\n",
    "    selection_model.fit(select_X_train, y_train)\n",
    "    # eval model\n",
    "    select_X_test = selection.transform(X_test)\n",
    "    y_pred = selection_model.predict(select_X_test)\n",
    "    predictions = [round(value) for value in y_pred]\n",
    "    accuracy = accuracy_score(y_test, predictions)\n",
    "    print(\"Thresh=%.10f, n=%d, Accuracy: \" % (thresh, select_X_train.shape[1]) + str(accuracy*100.0))"
   ]
  },
  {
   "cell_type": "code",
   "execution_count": 4,
   "metadata": {
    "collapsed": false
   },
   "outputs": [
    {
     "data": {
      "text/plain": [
       "0.56635498871795031"
      ]
     },
     "execution_count": 4,
     "metadata": {},
     "output_type": "execute_result"
    }
   ],
   "source": [
    "model = XGBClassifier(learning_rate =0.01,\n",
    "                      n_estimators=200,\n",
    "                      max_depth=7,\n",
    "                      min_child_weight=1,\n",
    "                      gamma=0,\n",
    "                      subsample=0.75,\n",
    "                      colsample_bytree=0.75,\n",
    "                      seed=27)\n",
    "parameters = {\n",
    "#         'n_estimators': [100, 200, 300],\n",
    "#         'learning_rate': [0.01, 0.05, 0.1, 0.15, 0.2, 0.3],\n",
    "#         'subsample': [0.5, 0.7, 0.9, 1.0],\n",
    "#         'colsample_bytree': [0.5, 0.7, 0.9, 1.0],\n",
    "#         'min_child_weight': [1, 3, 5],\n",
    "        'max_depth':[7, 9, 12, 15],\n",
    "        'reg_lambda':[1, 0.1, 0.5],\n",
    "        'reg_alpha':[0, 0.1, 0.5, 1],\n",
    "        'gamma':[0, 0.1, 0.3, 0.5, 0.7, 0.9, 1]\n",
    "    }\n",
    "# gsearch = GridSearchCV(model, parameters, cv=2, scoring='accuracy')\n",
    "# gsearch.fit(X,y)\n",
    "# gsearch.grid_scores_, gsearch.best_params_, gsearch.best_score_\n",
    "cross_val_score(model, X, y, scoring='accuracy', cv=5).mean()"
   ]
  },
  {
   "cell_type": "code",
   "execution_count": 6,
   "metadata": {
    "collapsed": false
   },
   "outputs": [
    {
     "data": {
      "text/plain": [
       "0.56578274148094665"
      ]
     },
     "execution_count": 6,
     "metadata": {},
     "output_type": "execute_result"
    }
   ],
   "source": [
    "model = XGBClassifier(learning_rate =0.01,\n",
    "                      n_estimators=150,\n",
    "                      max_depth=7,\n",
    "                      min_child_weight=1,\n",
    "                      gamma=0,\n",
    "                      subsample=0.75,\n",
    "                      colsample_bytree=0.75,\n",
    "                      seed=27)\n",
    "cross_val_score(model, X, y, scoring='accuracy', cv=5).mean()"
   ]
  },
  {
   "cell_type": "code",
   "execution_count": null,
   "metadata": {
    "collapsed": true
   },
   "outputs": [],
   "source": []
  }
 ],
 "metadata": {
  "kernelspec": {
   "display_name": "Python 3",
   "language": "python",
   "name": "python3"
  },
  "language_info": {
   "codemirror_mode": {
    "name": "ipython",
    "version": 3
   },
   "file_extension": ".py",
   "mimetype": "text/x-python",
   "name": "python",
   "nbconvert_exporter": "python",
   "pygments_lexer": "ipython3",
   "version": "3.6.0"
  }
 },
 "nbformat": 4,
 "nbformat_minor": 2
}
