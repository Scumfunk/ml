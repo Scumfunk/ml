{
 "cells": [
  {
   "cell_type": "code",
   "execution_count": 8,
   "metadata": {
    "collapsed": true
   },
   "outputs": [],
   "source": [
    "import os\n",
    "mingw_path = 'C:\\\\Program Files\\\\mingw-w64\\\\x86_64-5.3.0-posix-seh-rt_v4-rev0\\\\mingw64\\\\bin'\n",
    "os.environ['PATH'] = mingw_path + ';' + os.environ['PATH']\n",
    "%matplotlib inline\n",
    "import pandas as pd\n",
    "import numpy as np\n",
    "from scipy import stats, integrate\n",
    "import matplotlib.pyplot as plt\n",
    "# import seaborn as sns\n",
    "from numpy import sort\n",
    "#import xgboost as xgb\n",
    "from xgboost import XGBClassifier\n",
    "from xgboost import XGBRegressor\n",
    "from sklearn.model_selection import cross_val_score\n",
    "from sklearn.model_selection import train_test_split\n",
    "from sklearn.feature_selection import SelectFromModel\n",
    "from sklearn.metrics import accuracy_score\n",
    "from xgboost import plot_importance\n",
    "from sklearn.decomposition import PCA\n",
    "from sklearn.model_selection import GridSearchCV\n",
    "import random\n",
    "from sklearn import metrics, preprocessing\n",
    "from sklearn.ensemble import RandomForestClassifier\n",
    "from sklearn.ensemble import RandomForestRegressor\n",
    "from sklearn.model_selection import cross_val_score\n",
    "from sklearn.cluster import KMeans"
   ]
  },
  {
   "cell_type": "code",
   "execution_count": 9,
   "metadata": {
    "collapsed": true
   },
   "outputs": [],
   "source": [
    "data_path = \"F:\\\\Users\\\\ivann_000\\\\AnacondaProjects\\\\bk\\\\data\"\n",
    "X = pd.read_csv(data_path+\"\\\\2017.csv\", sep=',')\n",
    "y = X['class'].values\n",
    "X = X.drop(['class'], axis=1)"
   ]
  },
  {
   "cell_type": "code",
   "execution_count": 17,
   "metadata": {
    "collapsed": false
   },
   "outputs": [
    {
     "data": {
      "text/plain": [
       "0.50442477876106195"
      ]
     },
     "execution_count": 17,
     "metadata": {},
     "output_type": "execute_result"
    }
   ],
   "source": [
    "X_test = pd.read_csv(data_path+\"\\\\2016_first_half.csv\", sep=',')\n",
    "y_test = X_test['class'].values\n",
    "X_test = X_test.drop(['class'], axis=1)\n",
    "model = XGBClassifier(seed=4242,\n",
    "                      nthread=8,\n",
    "                      colsample_bytree=1,\n",
    "                      learning_rate=0.01,\n",
    "                      max_depth=3,\n",
    "                      n_estimators=50\n",
    "                     )\n",
    "model.fit(X, y)\n",
    "pred = model.predict(X_test)\n",
    "accuracy_score(pred, y_test)"
   ]
  },
  {
   "cell_type": "code",
   "execution_count": 12,
   "metadata": {
    "collapsed": false
   },
   "outputs": [
    {
     "data": {
      "text/plain": [
       "array([0, 0, 2, 0, 0, 2, 0, 0, 0, 0], dtype=int64)"
      ]
     },
     "execution_count": 12,
     "metadata": {},
     "output_type": "execute_result"
    }
   ],
   "source": [
    "pred"
   ]
  },
  {
   "cell_type": "code",
   "execution_count": 13,
   "metadata": {
    "collapsed": false
   },
   "outputs": [
    {
     "data": {
      "text/plain": [
       "array([0, 0, 2, 0, 0, 2, 0, 0, 0, 1], dtype=int64)"
      ]
     },
     "execution_count": 13,
     "metadata": {},
     "output_type": "execute_result"
    }
   ],
   "source": [
    "y_test"
   ]
  },
  {
   "cell_type": "code",
   "execution_count": 16,
   "metadata": {
    "collapsed": false
   },
   "outputs": [
    {
     "name": "stdout",
     "output_type": "stream",
     "text": [
      "     is_team_home_1  is_team_home_2  is_team_home_3  is_team_home_4  \\\n",
      "0 0               0               0               0               0   \n",
      "  0               0               0               0               0   \n",
      "  0               0               0               0               0   \n",
      "  0               0               0               0               0   \n",
      "  0               0               1               0               0   \n",
      "  0               1               0               0               0   \n",
      "  0               0               0               0               0   \n",
      "  0               0               0               0               0   \n",
      "1 0               0               0               0               0   \n",
      "0 0               0               0               0               0   \n",
      "\n",
      "     is_team_home_5  is_team_home_6  is_team_home_7  is_team_home_8  \\\n",
      "0 0               0               0               0               0   \n",
      "  0               0               0               0               0   \n",
      "  0               0               0               0               0   \n",
      "  0               0               0               0               0   \n",
      "  0               0               0               0               0   \n",
      "  0               0               0               0               0   \n",
      "  0               0               0               0               0   \n",
      "  0               0               0               0               0   \n",
      "1 0               0               0               0               0   \n",
      "0 0               0               0               0               0   \n",
      "\n",
      "     is_team_home_9  is_team_home_10            ...             \\\n",
      "0 0               0                0            ...              \n",
      "  0               0                0            ...              \n",
      "  0               0                0            ...              \n",
      "  0               0                0            ...              \n",
      "  0               0                0            ...              \n",
      "  0               0                0            ...              \n",
      "  0               0                0            ...              \n",
      "  0               1                0            ...              \n",
      "1 0               0                0            ...              \n",
      "0 0               0                1            ...              \n",
      "\n",
      "     is_away_lose_last_away_2  is_away_win_last_away_3  is_away_x_last_away_3  \\\n",
      "0 0                         1                        0                      0   \n",
      "  0                         1                        0                      0   \n",
      "  0                         0                        0                      1   \n",
      "  0                         0                        0                      1   \n",
      "  0                         0                        0                      1   \n",
      "  0                         1                        0                      0   \n",
      "  0                         0                        0                      1   \n",
      "  0                         0                        0                      1   \n",
      "1 0                         0                        0                      1   \n",
      "0 0                         1                        0                      0   \n",
      "\n",
      "     is_away_lose_last_away_3  is_away_win_last_away_4  is_away_x_last_away_4  \\\n",
      "0 0                         0                        0                      1   \n",
      "  0                         0                        0                      1   \n",
      "  0                         0                        0                      1   \n",
      "  0                         0                        0                      1   \n",
      "  0                         1                        0                      0   \n",
      "  0                         0                        0                      1   \n",
      "  0                         1                        0                      0   \n",
      "  0                         0                        0                      1   \n",
      "1 0                         1                        0                      0   \n",
      "0 0                         1                        0                      0   \n",
      "\n",
      "     is_away_lose_last_away_4  is_away_win_last_away_5  is_away_x_last_away_5  \\\n",
      "0 0                         0                        1                      0   \n",
      "  0                         0                        0                      1   \n",
      "  0                         0                        0                      1   \n",
      "  0                         1                        0                      0   \n",
      "  0                         1                        0                      0   \n",
      "  0                         1                        0                      0   \n",
      "  0                         0                        0                      1   \n",
      "  0                         0                        0                      1   \n",
      "1 0                         1                        0                      0   \n",
      "0 0                         1                        0                      0   \n",
      "\n",
      "     is_away_lose_last_away_5  \n",
      "0 0                       0.0  \n",
      "  0                       0.0  \n",
      "  0                       0.0  \n",
      "  0                       0.0  \n",
      "  0                       0.0  \n",
      "  0                       0.0  \n",
      "  0                       0.0  \n",
      "  0                       0.0  \n",
      "1 0                       0.0  \n",
      "0 0                       0.0  \n",
      "\n",
      "[10 rows x 141 columns]\n"
     ]
    },
    {
     "data": {
      "text/plain": [
       "array([ 1.6,  0.9,  0.6,  0.5,  0.3,  0.7,  0.9,  1. ,  0.8,  1.6])"
      ]
     },
     "execution_count": 16,
     "metadata": {},
     "output_type": "execute_result"
    }
   ],
   "source": [
    "X_test = pd.read_csv(data_path+\"\\\\last_try.csv\", sep=',')\n",
    "X_test = X_test.fillna(0)\n",
    "print(X_test)\n",
    "# model = XGBRegressor(seed=4242,\n",
    "#                       nthread=8,\n",
    "#                       colsample_bytree=1,\n",
    "#                       learning_rate=0.01,\n",
    "#                       max_depth=3,\n",
    "#                       n_estimators=50\n",
    "#                      )\n",
    "model = RandomForestRegressor()\n",
    "model.fit(X, y)\n",
    "pred = model.predict(X_test)\n",
    "pred"
   ]
  },
  {
   "cell_type": "code",
   "execution_count": null,
   "metadata": {
    "collapsed": true
   },
   "outputs": [],
   "source": []
  }
 ],
 "metadata": {
  "kernelspec": {
   "display_name": "Python 3",
   "language": "python",
   "name": "python3"
  },
  "language_info": {
   "codemirror_mode": {
    "name": "ipython",
    "version": 3
   },
   "file_extension": ".py",
   "mimetype": "text/x-python",
   "name": "python",
   "nbconvert_exporter": "python",
   "pygments_lexer": "ipython3",
   "version": "3.6.0"
  }
 },
 "nbformat": 4,
 "nbformat_minor": 2
}
