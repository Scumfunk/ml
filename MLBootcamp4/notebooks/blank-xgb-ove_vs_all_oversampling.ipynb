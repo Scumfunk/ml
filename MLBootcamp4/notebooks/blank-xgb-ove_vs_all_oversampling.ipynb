{
 "cells": [
  {
   "cell_type": "code",
   "execution_count": 1,
   "metadata": {
    "collapsed": false
   },
   "outputs": [],
   "source": [
    "import os\n",
    "mingw_path = 'C:\\\\Program Files\\\\mingw-w64\\\\x86_64-5.3.0-posix-seh-rt_v4-rev0\\\\mingw64\\\\bin'\n",
    "os.environ['PATH'] = mingw_path + ';' + os.environ['PATH']\n",
    "%matplotlib inline\n",
    "import pandas as pd\n",
    "import numpy as np\n",
    "from scipy import stats, integrate\n",
    "import matplotlib.pyplot as plt\n",
    "# import seaborn as sns\n",
    "from numpy import sort\n",
    "#import xgboost as xgb\n",
    "from xgboost import XGBClassifier\n",
    "from sklearn.model_selection import cross_val_score\n",
    "from sklearn.model_selection import train_test_split\n",
    "from sklearn.feature_selection import SelectFromModel\n",
    "from sklearn.metrics import accuracy_score\n",
    "from xgboost import plot_importance\n",
    "from sklearn.decomposition import PCA\n",
    "from sklearn.model_selection import GridSearchCV\n",
    "import random\n",
    "from sklearn import metrics, preprocessing\n",
    "from sklearn.ensemble import RandomForestClassifier\n",
    "from sklearn.model_selection import cross_val_score\n",
    "from sklearn.cluster import KMeans\n",
    "from sklearn import preprocessing\n",
    "from imblearn.over_sampling import SMOTE\n",
    "from sklearn.multiclass import OneVsRestClassifier"
   ]
  },
  {
   "cell_type": "code",
   "execution_count": 2,
   "metadata": {
    "collapsed": false
   },
   "outputs": [],
   "source": [
    "data_path = \"F:\\\\Users\\\\ivann_000\\\\AnacondaProjects\\\\MLBootcamp4\\\\data\"\n",
    "X = pd.read_csv(data_path+\"\\\\x_train.csv\", sep=';', header=None)\n",
    "y = pd.read_csv(data_path+\"\\\\y_train.csv\", sep=';', header=None)"
   ]
  },
  {
   "cell_type": "code",
   "execution_count": 3,
   "metadata": {
    "collapsed": false
   },
   "outputs": [
    {
     "data": {
      "text/plain": [
       "XGBClassifier(base_score=0.5, colsample_bylevel=1, colsample_bytree=0.5,\n",
       "       gamma=0, learning_rate=0.01, max_delta_step=0, max_depth=15,\n",
       "       min_child_weight=1, missing=None, n_estimators=1200, nthread=8,\n",
       "       objective='binary:logistic', reg_alpha=0, reg_lambda=1,\n",
       "       scale_pos_weight=1, seed=4242, silent=True, subsample=1)"
      ]
     },
     "execution_count": 3,
     "metadata": {},
     "output_type": "execute_result"
    }
   ],
   "source": [
    "X = pd.read_csv(data_path+\"\\\\x_train.csv\", sep=';', header=None)\n",
    "y = pd.read_csv(data_path+\"\\\\y_train.csv\", sep=';', header=None)\n",
    "yy = (y[0] == 0)*1\n",
    "\n",
    "sm = SMOTE(random_state=4242, ratio = 1.0)\n",
    "XX, yy = sm.fit_sample(X, yy)\n",
    "\n",
    "model1 = XGBClassifier(n_estimators=1200,\n",
    "                               nthread=8,\n",
    "                               max_depth=15,\n",
    "                                learning_rate=0.01,\n",
    "                                colsample_bytree=0.5,\n",
    "                               seed=4242)\n",
    "model1.fit(XX, yy)"
   ]
  },
  {
   "cell_type": "code",
   "execution_count": 4,
   "metadata": {
    "collapsed": false
   },
   "outputs": [
    {
     "data": {
      "text/plain": [
       "XGBClassifier(base_score=0.5, colsample_bylevel=1, colsample_bytree=0.5,\n",
       "       gamma=0, learning_rate=0.01, max_delta_step=0, max_depth=15,\n",
       "       min_child_weight=1, missing=None, n_estimators=1200, nthread=8,\n",
       "       objective='binary:logistic', reg_alpha=0, reg_lambda=1,\n",
       "       scale_pos_weight=1, seed=4242, silent=True, subsample=1)"
      ]
     },
     "execution_count": 4,
     "metadata": {},
     "output_type": "execute_result"
    }
   ],
   "source": [
    "X = pd.read_csv(data_path+\"\\\\x_train.csv\", sep=';', header=None)\n",
    "y = pd.read_csv(data_path+\"\\\\y_train.csv\", sep=';', header=None)\n",
    "yy = (y[0] == 1)*1\n",
    "\n",
    "sm = SMOTE(random_state=4242, ratio = 1.0)\n",
    "XX, yy = sm.fit_sample(X, yy)\n",
    "\n",
    "model2 = XGBClassifier(n_estimators=1200,\n",
    "                               nthread=8,\n",
    "                               max_depth=15,\n",
    "                                learning_rate=0.01,\n",
    "                                colsample_bytree=0.5,\n",
    "                               seed=4242)\n",
    "model2.fit(XX, yy)"
   ]
  },
  {
   "cell_type": "code",
   "execution_count": 5,
   "metadata": {
    "collapsed": false
   },
   "outputs": [
    {
     "data": {
      "text/plain": [
       "XGBClassifier(base_score=0.5, colsample_bylevel=1, colsample_bytree=0.5,\n",
       "       gamma=0, learning_rate=0.01, max_delta_step=0, max_depth=15,\n",
       "       min_child_weight=1, missing=None, n_estimators=1200, nthread=8,\n",
       "       objective='binary:logistic', reg_alpha=0, reg_lambda=1,\n",
       "       scale_pos_weight=1, seed=4242, silent=True, subsample=1)"
      ]
     },
     "execution_count": 5,
     "metadata": {},
     "output_type": "execute_result"
    }
   ],
   "source": [
    "X = pd.read_csv(data_path+\"\\\\x_train.csv\", sep=';', header=None)\n",
    "y = pd.read_csv(data_path+\"\\\\y_train.csv\", sep=';', header=None)\n",
    "yy = (y[0] == 2)*1\n",
    "\n",
    "sm = SMOTE(random_state=4242, ratio = 1.0)\n",
    "XX, yy = sm.fit_sample(X, yy)\n",
    "\n",
    "model3 = XGBClassifier(n_estimators=1200,\n",
    "                               nthread=8,\n",
    "                               max_depth=15,\n",
    "                                learning_rate=0.01,\n",
    "                                colsample_bytree=0.5,\n",
    "                               seed=4242)\n",
    "model3.fit(XX, yy)"
   ]
  },
  {
   "cell_type": "code",
   "execution_count": 6,
   "metadata": {
    "collapsed": false
   },
   "outputs": [
    {
     "data": {
      "text/plain": [
       "XGBClassifier(base_score=0.5, colsample_bylevel=1, colsample_bytree=0.5,\n",
       "       gamma=0, learning_rate=0.01, max_delta_step=0, max_depth=15,\n",
       "       min_child_weight=1, missing=None, n_estimators=1200, nthread=8,\n",
       "       objective='binary:logistic', reg_alpha=0, reg_lambda=1,\n",
       "       scale_pos_weight=1, seed=4242, silent=True, subsample=1)"
      ]
     },
     "execution_count": 6,
     "metadata": {},
     "output_type": "execute_result"
    }
   ],
   "source": [
    "X = pd.read_csv(data_path+\"\\\\x_train.csv\", sep=';', header=None)\n",
    "y = pd.read_csv(data_path+\"\\\\y_train.csv\", sep=';', header=None)\n",
    "yy = (y[0] == 3)*1\n",
    "\n",
    "sm = SMOTE(random_state=4242, ratio = 1.0)\n",
    "XX, yy = sm.fit_sample(X, yy)\n",
    "\n",
    "model4 = XGBClassifier(n_estimators=1200,\n",
    "                               nthread=8,\n",
    "                               max_depth=15,\n",
    "                                learning_rate=0.01,\n",
    "                                colsample_bytree=0.5,\n",
    "                               seed=4242)\n",
    "model4.fit(XX, yy)"
   ]
  },
  {
   "cell_type": "code",
   "execution_count": 7,
   "metadata": {
    "collapsed": false
   },
   "outputs": [
    {
     "data": {
      "text/plain": [
       "XGBClassifier(base_score=0.5, colsample_bylevel=1, colsample_bytree=0.5,\n",
       "       gamma=0, learning_rate=0.01, max_delta_step=0, max_depth=15,\n",
       "       min_child_weight=1, missing=None, n_estimators=1200, nthread=8,\n",
       "       objective='binary:logistic', reg_alpha=0, reg_lambda=1,\n",
       "       scale_pos_weight=1, seed=4242, silent=True, subsample=1)"
      ]
     },
     "execution_count": 7,
     "metadata": {},
     "output_type": "execute_result"
    }
   ],
   "source": [
    "X = pd.read_csv(data_path+\"\\\\x_train.csv\", sep=';', header=None)\n",
    "y = pd.read_csv(data_path+\"\\\\y_train.csv\", sep=';', header=None)\n",
    "yy = (y[0] == 4)*1\n",
    "\n",
    "sm = SMOTE(random_state=4242, ratio = 1.0)\n",
    "XX, yy = sm.fit_sample(X, yy)\n",
    "\n",
    "model5 = XGBClassifier(n_estimators=1200,\n",
    "                               nthread=8,\n",
    "                               max_depth=15,\n",
    "                                learning_rate=0.01,\n",
    "                                colsample_bytree=0.5,\n",
    "                               seed=4242)\n",
    "model5.fit(XX, yy)"
   ]
  },
  {
   "cell_type": "code",
   "execution_count": 72,
   "metadata": {
    "collapsed": false
   },
   "outputs": [],
   "source": [
    "models = [model1, model2, model3, model4, model5]\n",
    "ys = []\n",
    "for i in range(5):\n",
    "     ys.append((y[0] == 4)*1)\n",
    "predictions = []\n",
    "for m in models:\n",
    "    predictions.append(m.predict(X.values))"
   ]
  },
  {
   "cell_type": "code",
   "execution_count": 73,
   "metadata": {
    "collapsed": false
   },
   "outputs": [],
   "source": [
    "accuracies = [accuracy_score(ys[i], predictions[i]) for i in range(5)]\n",
    "weights = [1.0,1.0,1.0,1.0,1.0]"
   ]
  },
  {
   "cell_type": "code",
   "execution_count": 76,
   "metadata": {
    "collapsed": true
   },
   "outputs": [],
   "source": [
    "p = np.array(predictions, dtype=np.float64)\n",
    "for j in range(len(predictions)):\n",
    "    for i in range(len(predictions[j])):\n",
    "        p[j][i] = predictions[j][i]*accuracies[j]*weights[j]"
   ]
  },
  {
   "cell_type": "code",
   "execution_count": 85,
   "metadata": {
    "collapsed": false
   },
   "outputs": [],
   "source": [
    "for i in range(len(p[0])):\n",
    "    arr = [p[j][i] for j in range(5)]\n",
    "    if np.max(arr)==0:\n",
    "        p[2][i]=0.01\n",
    "ansvers = np.argmax(p, axis=0)"
   ]
  },
  {
   "cell_type": "code",
   "execution_count": 88,
   "metadata": {
    "collapsed": false
   },
   "outputs": [
    {
     "data": {
      "text/plain": [
       "1.0"
      ]
     },
     "execution_count": 88,
     "metadata": {},
     "output_type": "execute_result"
    }
   ],
   "source": [
    "accuracy_score(ansvers,y[0])"
   ]
  },
  {
   "cell_type": "code",
   "execution_count": 90,
   "metadata": {
    "collapsed": false
   },
   "outputs": [],
   "source": [
    "X_test = pd.read_csv(data_path+\"\\\\x_test.csv\", sep=';', header=None)\n",
    "predictions = []\n",
    "for m in models:\n",
    "    predictions.append(m.predict(X_test.values))\n",
    "p = np.array(predictions, dtype=np.float64)\n",
    "for j in range(len(predictions)):\n",
    "    for i in range(len(predictions[j])):\n",
    "        p[j][i] = predictions[j][i]*accuracies[j]*weights[j]\n",
    "for i in range(len(p[0])):\n",
    "    arr = [p[j][i] for j in range(5)]\n",
    "    if np.max(arr)==0:\n",
    "        p[2][i]=0.01\n",
    "predicted = np.argmax(p, axis=0)\n",
    "df = pd.DataFrame(predicted)\n",
    "df = df.astype(int)\n",
    "df.to_csv(data_path+\"\\\\y_test7.csv\", header=None, index=None, encoding='utf-8')"
   ]
  },
  {
   "cell_type": "code",
   "execution_count": null,
   "metadata": {
    "collapsed": false
   },
   "outputs": [],
   "source": []
  },
  {
   "cell_type": "code",
   "execution_count": null,
   "metadata": {
    "collapsed": false
   },
   "outputs": [],
   "source": []
  },
  {
   "cell_type": "code",
   "execution_count": null,
   "metadata": {
    "collapsed": false
   },
   "outputs": [],
   "source": []
  },
  {
   "cell_type": "code",
   "execution_count": null,
   "metadata": {
    "collapsed": false
   },
   "outputs": [],
   "source": []
  },
  {
   "cell_type": "code",
   "execution_count": null,
   "metadata": {
    "collapsed": true
   },
   "outputs": [],
   "source": []
  }
 ],
 "metadata": {
  "kernelspec": {
   "display_name": "Python 3",
   "language": "python",
   "name": "python3"
  },
  "language_info": {
   "codemirror_mode": {
    "name": "ipython",
    "version": 3
   },
   "file_extension": ".py",
   "mimetype": "text/x-python",
   "name": "python",
   "nbconvert_exporter": "python",
   "pygments_lexer": "ipython3",
   "version": "3.6.0"
  }
 },
 "nbformat": 4,
 "nbformat_minor": 2
}
