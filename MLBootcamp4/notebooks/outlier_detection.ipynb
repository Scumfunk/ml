{
 "cells": [
  {
   "cell_type": "code",
   "execution_count": 20,
   "metadata": {
    "collapsed": true
   },
   "outputs": [],
   "source": [
    "import os\n",
    "mingw_path = 'C:\\\\Program Files\\\\mingw-w64\\\\x86_64-5.3.0-posix-seh-rt_v4-rev0\\\\mingw64\\\\bin'\n",
    "os.environ['PATH'] = mingw_path + ';' + os.environ['PATH']\n",
    "%matplotlib inline\n",
    "import pandas as pd\n",
    "import numpy as np\n",
    "from scipy import stats, integrate\n",
    "import matplotlib.pyplot as plt\n",
    "import seaborn as sns\n",
    "from numpy import sort\n",
    "#import xgboost as xgb\n",
    "from xgboost import XGBClassifier\n",
    "from sklearn.model_selection import cross_val_score\n",
    "from sklearn.model_selection import train_test_split\n",
    "from sklearn.feature_selection import SelectFromModel\n",
    "from sklearn.metrics import accuracy_score\n",
    "from xgboost import plot_importance\n",
    "from sklearn.decomposition import PCA\n",
    "from sklearn.model_selection import GridSearchCV\n",
    "import random\n",
    "from sklearn import metrics\n",
    "from sklearn import svm"
   ]
  },
  {
   "cell_type": "code",
   "execution_count": 21,
   "metadata": {
    "collapsed": false
   },
   "outputs": [
    {
     "data": {
      "text/plain": [
       "(3489, 3489)"
      ]
     },
     "execution_count": 21,
     "metadata": {},
     "output_type": "execute_result"
    }
   ],
   "source": [
    "data_path = \"F:\\\\Users\\\\ivann_000\\\\AnacondaProjects\\\\MLBootcamp4\\\\data\"\n",
    "X = pd.read_csv(data_path+\"\\\\x_train.csv\", sep=';', header=None)\n",
    "y = pd.read_csv(data_path+\"\\\\y_train.csv\", sep=';', header=None)[0]\n",
    "XX = X.copy()\n",
    "XX[223] = y\n",
    "len(X), len(y)"
   ]
  },
  {
   "cell_type": "code",
   "execution_count": 111,
   "metadata": {
    "collapsed": false
   },
   "outputs": [
    {
     "data": {
      "text/plain": [
       "(293, 3489)"
      ]
     },
     "execution_count": 111,
     "metadata": {},
     "output_type": "execute_result"
    }
   ],
   "source": [
    "outliers_fraction = 0.007\n",
    "outliers_fractions = [0.007, 0.011, 0.011, 0.011, 0.001]\n",
    "labels = [0, 1, 2, 3, 4]\n",
    "\n",
    "rows_to_drop = []\n",
    "for i, label in enumerate(labels):\n",
    "    XXt = XX[XX[223]==label].drop([223], axis=1)\n",
    "    outlier = svm.OneClassSVM(nu=0.95 * outliers_fractions[i] + 0.05, kernel=\"rbf\", gamma=0.1)\n",
    "    outlier.fit(XXt)\n",
    "    dist_to_border = outlier.decision_function(XXt).ravel()\n",
    "    threshold = stats.scoreatpercentile(dist_to_border, 100 * outliers_fractions[i])\n",
    "    is_inlier = dist_to_border > threshold\n",
    "    rows_to_drop+=XXt[is_inlier==False].index.tolist()\n",
    "len(rows_to_drop), len(XX)"
   ]
  },
  {
   "cell_type": "code",
   "execution_count": 115,
   "metadata": {
    "collapsed": false
   },
   "outputs": [],
   "source": [
    "y_pr = XX[223]\n",
    "X_pr = XX.drop([223], axis=1)\n",
    "y_pr.to_csv(data_path+\"\\\\y_train_1.csv\", header=None, index=None, encoding='utf-8', sep=';')\n",
    "X_pr.to_csv(data_path+\"\\\\x_train_1.csv\", header=None, index=None, encoding='utf-8', sep=';')"
   ]
  },
  {
   "cell_type": "code",
   "execution_count": 63,
   "metadata": {
    "collapsed": false
   },
   "outputs": [
    {
     "data": {
      "text/plain": [
       "[223, 458, 487, 564, 573, 1152, 1155]"
      ]
     },
     "execution_count": 63,
     "metadata": {},
     "output_type": "execute_result"
    }
   ],
   "source": [
    "XXt[is_inlier==False].index.tolist()"
   ]
  },
  {
   "cell_type": "code",
   "execution_count": 112,
   "metadata": {
    "collapsed": true
   },
   "outputs": [],
   "source": [
    "XX = XX.drop(XX.index[rows_to_drop])"
   ]
  },
  {
   "cell_type": "code",
   "execution_count": 113,
   "metadata": {
    "collapsed": false
   },
   "outputs": [
    {
     "data": {
      "text/plain": [
       "3196"
      ]
     },
     "execution_count": 113,
     "metadata": {},
     "output_type": "execute_result"
    }
   ],
   "source": [
    "len(XX)"
   ]
  },
  {
   "cell_type": "code",
   "execution_count": null,
   "metadata": {
    "collapsed": true
   },
   "outputs": [],
   "source": []
  }
 ],
 "metadata": {
  "kernelspec": {
   "display_name": "Python 3",
   "language": "python",
   "name": "python3"
  },
  "language_info": {
   "codemirror_mode": {
    "name": "ipython",
    "version": 3
   },
   "file_extension": ".py",
   "mimetype": "text/x-python",
   "name": "python",
   "nbconvert_exporter": "python",
   "pygments_lexer": "ipython3",
   "version": "3.6.0"
  }
 },
 "nbformat": 4,
 "nbformat_minor": 2
}
